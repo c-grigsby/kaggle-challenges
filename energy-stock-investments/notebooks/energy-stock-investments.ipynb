{
 "cells": [
  {
   "cell_type": "markdown",
   "id": "0903510a",
   "metadata": {},
   "source": [
    "<h1 style=\"font-size:3rem;color:orange;\">Energy Stock Investments</h1>\n",
    "\n",
    "<h2 style=\"font-size:2rem;color:orange;\">EDA (Exploratory Data Analysis)</h2>"
   ]
  },
  {
   "cell_type": "markdown",
   "id": "5aa782ad",
   "metadata": {},
   "source": [
    "### Import Libraries "
   ]
  },
  {
   "cell_type": "code",
   "execution_count": 1,
   "id": "fe12b5ea",
   "metadata": {},
   "outputs": [],
   "source": [
    "import pandas as pd\n",
    "import matplotlib.pyplot as plt"
   ]
  },
  {
   "cell_type": "markdown",
   "id": "74e76600",
   "metadata": {},
   "source": [
    "### Import Data"
   ]
  },
  {
   "cell_type": "code",
   "execution_count": 2,
   "id": "633ea3ee",
   "metadata": {},
   "outputs": [],
   "source": [
    "df_dominion_energy = pd.read_csv(\"../data/raw/D.csv\")\n",
    "df_duke_energy = pd.read_csv(\"../data/raw/DUK.csv\")\n",
    "df_exelon_co = pd.read_csv(\"../data/raw/EXC.csv\")\n",
    "df_next_era_energy = pd.read_csv(\"../data/raw/NEE.csv\")\n",
    "df_southern_co = pd.read_csv(\"../data/raw/SO.csv\")"
   ]
  },
  {
   "cell_type": "markdown",
   "id": "6b98f897",
   "metadata": {},
   "source": [
    "### Raw Data Peek"
   ]
  },
  {
   "cell_type": "code",
   "execution_count": 3,
   "id": "6c130da2",
   "metadata": {},
   "outputs": [
    {
     "data": {
      "text/html": [
       "<div>\n",
       "<style scoped>\n",
       "    .dataframe tbody tr th:only-of-type {\n",
       "        vertical-align: middle;\n",
       "    }\n",
       "\n",
       "    .dataframe tbody tr th {\n",
       "        vertical-align: top;\n",
       "    }\n",
       "\n",
       "    .dataframe thead th {\n",
       "        text-align: right;\n",
       "    }\n",
       "</style>\n",
       "<table border=\"1\" class=\"dataframe\">\n",
       "  <thead>\n",
       "    <tr style=\"text-align: right;\">\n",
       "      <th></th>\n",
       "      <th>Date</th>\n",
       "      <th>Open</th>\n",
       "      <th>High</th>\n",
       "      <th>Low</th>\n",
       "      <th>Close</th>\n",
       "      <th>Adj Close</th>\n",
       "      <th>Volume</th>\n",
       "    </tr>\n",
       "  </thead>\n",
       "  <tbody>\n",
       "    <tr>\n",
       "      <th>0</th>\n",
       "      <td>2014-07-28</td>\n",
       "      <td>69.750000</td>\n",
       "      <td>71.059998</td>\n",
       "      <td>69.750000</td>\n",
       "      <td>70.879997</td>\n",
       "      <td>57.963978</td>\n",
       "      <td>1806400</td>\n",
       "    </tr>\n",
       "    <tr>\n",
       "      <th>1</th>\n",
       "      <td>2014-07-29</td>\n",
       "      <td>70.669998</td>\n",
       "      <td>70.980003</td>\n",
       "      <td>69.930000</td>\n",
       "      <td>69.930000</td>\n",
       "      <td>57.187099</td>\n",
       "      <td>2231100</td>\n",
       "    </tr>\n",
       "    <tr>\n",
       "      <th>2</th>\n",
       "      <td>2014-07-30</td>\n",
       "      <td>70.000000</td>\n",
       "      <td>70.660004</td>\n",
       "      <td>68.400002</td>\n",
       "      <td>68.970001</td>\n",
       "      <td>56.402020</td>\n",
       "      <td>2588900</td>\n",
       "    </tr>\n",
       "    <tr>\n",
       "      <th>3</th>\n",
       "      <td>2014-07-31</td>\n",
       "      <td>68.629997</td>\n",
       "      <td>68.849998</td>\n",
       "      <td>67.580002</td>\n",
       "      <td>67.639999</td>\n",
       "      <td>55.314388</td>\n",
       "      <td>3266900</td>\n",
       "    </tr>\n",
       "    <tr>\n",
       "      <th>4</th>\n",
       "      <td>2014-08-01</td>\n",
       "      <td>67.330002</td>\n",
       "      <td>68.410004</td>\n",
       "      <td>67.220001</td>\n",
       "      <td>67.589996</td>\n",
       "      <td>55.273487</td>\n",
       "      <td>2601800</td>\n",
       "    </tr>\n",
       "  </tbody>\n",
       "</table>\n",
       "</div>"
      ],
      "text/plain": [
       "         Date       Open       High        Low      Close  Adj Close   Volume\n",
       "0  2014-07-28  69.750000  71.059998  69.750000  70.879997  57.963978  1806400\n",
       "1  2014-07-29  70.669998  70.980003  69.930000  69.930000  57.187099  2231100\n",
       "2  2014-07-30  70.000000  70.660004  68.400002  68.970001  56.402020  2588900\n",
       "3  2014-07-31  68.629997  68.849998  67.580002  67.639999  55.314388  3266900\n",
       "4  2014-08-01  67.330002  68.410004  67.220001  67.589996  55.273487  2601800"
      ]
     },
     "execution_count": 3,
     "metadata": {},
     "output_type": "execute_result"
    }
   ],
   "source": [
    "df_dominion_energy.head()"
   ]
  },
  {
   "cell_type": "code",
   "execution_count": 4,
   "id": "9ba3fbe6",
   "metadata": {},
   "outputs": [
    {
     "data": {
      "text/html": [
       "<div>\n",
       "<style scoped>\n",
       "    .dataframe tbody tr th:only-of-type {\n",
       "        vertical-align: middle;\n",
       "    }\n",
       "\n",
       "    .dataframe tbody tr th {\n",
       "        vertical-align: top;\n",
       "    }\n",
       "\n",
       "    .dataframe thead th {\n",
       "        text-align: right;\n",
       "    }\n",
       "</style>\n",
       "<table border=\"1\" class=\"dataframe\">\n",
       "  <thead>\n",
       "    <tr style=\"text-align: right;\">\n",
       "      <th></th>\n",
       "      <th>Date</th>\n",
       "      <th>Open</th>\n",
       "      <th>High</th>\n",
       "      <th>Low</th>\n",
       "      <th>Close</th>\n",
       "      <th>Adj Close</th>\n",
       "      <th>Volume</th>\n",
       "    </tr>\n",
       "  </thead>\n",
       "  <tbody>\n",
       "    <tr>\n",
       "      <th>0</th>\n",
       "      <td>2014-07-28</td>\n",
       "      <td>73.309998</td>\n",
       "      <td>74.480003</td>\n",
       "      <td>73.230003</td>\n",
       "      <td>74.389999</td>\n",
       "      <td>59.266285</td>\n",
       "      <td>3281100</td>\n",
       "    </tr>\n",
       "    <tr>\n",
       "      <th>1</th>\n",
       "      <td>2014-07-29</td>\n",
       "      <td>74.400002</td>\n",
       "      <td>74.480003</td>\n",
       "      <td>73.760002</td>\n",
       "      <td>73.980003</td>\n",
       "      <td>58.939648</td>\n",
       "      <td>2236300</td>\n",
       "    </tr>\n",
       "    <tr>\n",
       "      <th>2</th>\n",
       "      <td>2014-07-30</td>\n",
       "      <td>74.029999</td>\n",
       "      <td>74.199997</td>\n",
       "      <td>72.580002</td>\n",
       "      <td>73.050003</td>\n",
       "      <td>58.198696</td>\n",
       "      <td>2782200</td>\n",
       "    </tr>\n",
       "    <tr>\n",
       "      <th>3</th>\n",
       "      <td>2014-07-31</td>\n",
       "      <td>72.610001</td>\n",
       "      <td>73.099998</td>\n",
       "      <td>72.059998</td>\n",
       "      <td>72.129997</td>\n",
       "      <td>57.465740</td>\n",
       "      <td>3249000</td>\n",
       "    </tr>\n",
       "    <tr>\n",
       "      <th>4</th>\n",
       "      <td>2014-08-01</td>\n",
       "      <td>72.239998</td>\n",
       "      <td>73.370003</td>\n",
       "      <td>72.150002</td>\n",
       "      <td>72.940002</td>\n",
       "      <td>58.111061</td>\n",
       "      <td>3960200</td>\n",
       "    </tr>\n",
       "  </tbody>\n",
       "</table>\n",
       "</div>"
      ],
      "text/plain": [
       "         Date       Open       High        Low      Close  Adj Close   Volume\n",
       "0  2014-07-28  73.309998  74.480003  73.230003  74.389999  59.266285  3281100\n",
       "1  2014-07-29  74.400002  74.480003  73.760002  73.980003  58.939648  2236300\n",
       "2  2014-07-30  74.029999  74.199997  72.580002  73.050003  58.198696  2782200\n",
       "3  2014-07-31  72.610001  73.099998  72.059998  72.129997  57.465740  3249000\n",
       "4  2014-08-01  72.239998  73.370003  72.150002  72.940002  58.111061  3960200"
      ]
     },
     "execution_count": 4,
     "metadata": {},
     "output_type": "execute_result"
    }
   ],
   "source": [
    "df_duke_energy.head()"
   ]
  },
  {
   "cell_type": "code",
   "execution_count": 5,
   "id": "53daf4df",
   "metadata": {},
   "outputs": [
    {
     "data": {
      "text/html": [
       "<div>\n",
       "<style scoped>\n",
       "    .dataframe tbody tr th:only-of-type {\n",
       "        vertical-align: middle;\n",
       "    }\n",
       "\n",
       "    .dataframe tbody tr th {\n",
       "        vertical-align: top;\n",
       "    }\n",
       "\n",
       "    .dataframe thead th {\n",
       "        text-align: right;\n",
       "    }\n",
       "</style>\n",
       "<table border=\"1\" class=\"dataframe\">\n",
       "  <thead>\n",
       "    <tr style=\"text-align: right;\">\n",
       "      <th></th>\n",
       "      <th>Date</th>\n",
       "      <th>Open</th>\n",
       "      <th>High</th>\n",
       "      <th>Low</th>\n",
       "      <th>Close</th>\n",
       "      <th>Adj Close</th>\n",
       "      <th>Volume</th>\n",
       "    </tr>\n",
       "  </thead>\n",
       "  <tbody>\n",
       "    <tr>\n",
       "      <th>0</th>\n",
       "      <td>2014-07-28</td>\n",
       "      <td>31.410000</td>\n",
       "      <td>32.130001</td>\n",
       "      <td>31.379999</td>\n",
       "      <td>31.950001</td>\n",
       "      <td>26.442406</td>\n",
       "      <td>5683400</td>\n",
       "    </tr>\n",
       "    <tr>\n",
       "      <th>1</th>\n",
       "      <td>2014-07-29</td>\n",
       "      <td>31.940001</td>\n",
       "      <td>32.049999</td>\n",
       "      <td>31.430000</td>\n",
       "      <td>31.469999</td>\n",
       "      <td>26.045147</td>\n",
       "      <td>6292800</td>\n",
       "    </tr>\n",
       "    <tr>\n",
       "      <th>2</th>\n",
       "      <td>2014-07-30</td>\n",
       "      <td>31.629999</td>\n",
       "      <td>31.660000</td>\n",
       "      <td>30.850000</td>\n",
       "      <td>31.010000</td>\n",
       "      <td>25.664442</td>\n",
       "      <td>7976600</td>\n",
       "    </tr>\n",
       "    <tr>\n",
       "      <th>3</th>\n",
       "      <td>2014-07-31</td>\n",
       "      <td>30.930000</td>\n",
       "      <td>31.490000</td>\n",
       "      <td>30.799999</td>\n",
       "      <td>31.080000</td>\n",
       "      <td>25.722378</td>\n",
       "      <td>9236100</td>\n",
       "    </tr>\n",
       "    <tr>\n",
       "      <th>4</th>\n",
       "      <td>2014-08-01</td>\n",
       "      <td>31.139999</td>\n",
       "      <td>32.080002</td>\n",
       "      <td>31.100000</td>\n",
       "      <td>31.540001</td>\n",
       "      <td>26.103081</td>\n",
       "      <td>9734300</td>\n",
       "    </tr>\n",
       "  </tbody>\n",
       "</table>\n",
       "</div>"
      ],
      "text/plain": [
       "         Date       Open       High        Low      Close  Adj Close   Volume\n",
       "0  2014-07-28  31.410000  32.130001  31.379999  31.950001  26.442406  5683400\n",
       "1  2014-07-29  31.940001  32.049999  31.430000  31.469999  26.045147  6292800\n",
       "2  2014-07-30  31.629999  31.660000  30.850000  31.010000  25.664442  7976600\n",
       "3  2014-07-31  30.930000  31.490000  30.799999  31.080000  25.722378  9236100\n",
       "4  2014-08-01  31.139999  32.080002  31.100000  31.540001  26.103081  9734300"
      ]
     },
     "execution_count": 5,
     "metadata": {},
     "output_type": "execute_result"
    }
   ],
   "source": [
    "df_exelon_co.head()"
   ]
  },
  {
   "cell_type": "code",
   "execution_count": 6,
   "id": "77404773",
   "metadata": {},
   "outputs": [
    {
     "data": {
      "text/html": [
       "<div>\n",
       "<style scoped>\n",
       "    .dataframe tbody tr th:only-of-type {\n",
       "        vertical-align: middle;\n",
       "    }\n",
       "\n",
       "    .dataframe tbody tr th {\n",
       "        vertical-align: top;\n",
       "    }\n",
       "\n",
       "    .dataframe thead th {\n",
       "        text-align: right;\n",
       "    }\n",
       "</style>\n",
       "<table border=\"1\" class=\"dataframe\">\n",
       "  <thead>\n",
       "    <tr style=\"text-align: right;\">\n",
       "      <th></th>\n",
       "      <th>Date</th>\n",
       "      <th>Open</th>\n",
       "      <th>High</th>\n",
       "      <th>Low</th>\n",
       "      <th>Close</th>\n",
       "      <th>Adj Close</th>\n",
       "      <th>Volume</th>\n",
       "    </tr>\n",
       "  </thead>\n",
       "  <tbody>\n",
       "    <tr>\n",
       "      <th>0</th>\n",
       "      <td>2014-07-28</td>\n",
       "      <td>98.470001</td>\n",
       "      <td>99.760002</td>\n",
       "      <td>98.099998</td>\n",
       "      <td>99.580002</td>\n",
       "      <td>85.106087</td>\n",
       "      <td>1643000</td>\n",
       "    </tr>\n",
       "    <tr>\n",
       "      <th>1</th>\n",
       "      <td>2014-07-29</td>\n",
       "      <td>99.029999</td>\n",
       "      <td>99.389999</td>\n",
       "      <td>97.300003</td>\n",
       "      <td>98.400002</td>\n",
       "      <td>84.097595</td>\n",
       "      <td>1942500</td>\n",
       "    </tr>\n",
       "    <tr>\n",
       "      <th>2</th>\n",
       "      <td>2014-07-30</td>\n",
       "      <td>98.160004</td>\n",
       "      <td>98.500000</td>\n",
       "      <td>95.760002</td>\n",
       "      <td>96.339996</td>\n",
       "      <td>82.337006</td>\n",
       "      <td>2844100</td>\n",
       "    </tr>\n",
       "    <tr>\n",
       "      <th>3</th>\n",
       "      <td>2014-07-31</td>\n",
       "      <td>95.639999</td>\n",
       "      <td>95.980003</td>\n",
       "      <td>93.800003</td>\n",
       "      <td>93.889999</td>\n",
       "      <td>80.243126</td>\n",
       "      <td>2725200</td>\n",
       "    </tr>\n",
       "    <tr>\n",
       "      <th>4</th>\n",
       "      <td>2014-08-01</td>\n",
       "      <td>93.500000</td>\n",
       "      <td>94.919998</td>\n",
       "      <td>93.279999</td>\n",
       "      <td>93.820000</td>\n",
       "      <td>80.183289</td>\n",
       "      <td>2514400</td>\n",
       "    </tr>\n",
       "  </tbody>\n",
       "</table>\n",
       "</div>"
      ],
      "text/plain": [
       "         Date       Open       High        Low      Close  Adj Close   Volume\n",
       "0  2014-07-28  98.470001  99.760002  98.099998  99.580002  85.106087  1643000\n",
       "1  2014-07-29  99.029999  99.389999  97.300003  98.400002  84.097595  1942500\n",
       "2  2014-07-30  98.160004  98.500000  95.760002  96.339996  82.337006  2844100\n",
       "3  2014-07-31  95.639999  95.980003  93.800003  93.889999  80.243126  2725200\n",
       "4  2014-08-01  93.500000  94.919998  93.279999  93.820000  80.183289  2514400"
      ]
     },
     "execution_count": 6,
     "metadata": {},
     "output_type": "execute_result"
    }
   ],
   "source": [
    "df_next_era_energy.head()"
   ]
  },
  {
   "cell_type": "code",
   "execution_count": 7,
   "id": "322f6b81",
   "metadata": {
    "scrolled": true
   },
   "outputs": [
    {
     "data": {
      "text/html": [
       "<div>\n",
       "<style scoped>\n",
       "    .dataframe tbody tr th:only-of-type {\n",
       "        vertical-align: middle;\n",
       "    }\n",
       "\n",
       "    .dataframe tbody tr th {\n",
       "        vertical-align: top;\n",
       "    }\n",
       "\n",
       "    .dataframe thead th {\n",
       "        text-align: right;\n",
       "    }\n",
       "</style>\n",
       "<table border=\"1\" class=\"dataframe\">\n",
       "  <thead>\n",
       "    <tr style=\"text-align: right;\">\n",
       "      <th></th>\n",
       "      <th>Date</th>\n",
       "      <th>Open</th>\n",
       "      <th>High</th>\n",
       "      <th>Low</th>\n",
       "      <th>Close</th>\n",
       "      <th>Adj Close</th>\n",
       "      <th>Volume</th>\n",
       "    </tr>\n",
       "  </thead>\n",
       "  <tbody>\n",
       "    <tr>\n",
       "      <th>0</th>\n",
       "      <td>2014-07-28</td>\n",
       "      <td>44.619999</td>\n",
       "      <td>45.430000</td>\n",
       "      <td>44.619999</td>\n",
       "      <td>45.360001</td>\n",
       "      <td>35.349178</td>\n",
       "      <td>5568900</td>\n",
       "    </tr>\n",
       "    <tr>\n",
       "      <th>1</th>\n",
       "      <td>2014-07-29</td>\n",
       "      <td>45.470001</td>\n",
       "      <td>45.470001</td>\n",
       "      <td>44.669998</td>\n",
       "      <td>44.860001</td>\n",
       "      <td>34.959522</td>\n",
       "      <td>5499600</td>\n",
       "    </tr>\n",
       "    <tr>\n",
       "      <th>2</th>\n",
       "      <td>2014-07-30</td>\n",
       "      <td>45.000000</td>\n",
       "      <td>45.000000</td>\n",
       "      <td>44.009998</td>\n",
       "      <td>44.380001</td>\n",
       "      <td>34.585461</td>\n",
       "      <td>6945200</td>\n",
       "    </tr>\n",
       "    <tr>\n",
       "      <th>3</th>\n",
       "      <td>2014-07-31</td>\n",
       "      <td>43.889999</td>\n",
       "      <td>43.889999</td>\n",
       "      <td>43.220001</td>\n",
       "      <td>43.290001</td>\n",
       "      <td>34.139881</td>\n",
       "      <td>5675300</td>\n",
       "    </tr>\n",
       "    <tr>\n",
       "      <th>4</th>\n",
       "      <td>2014-08-01</td>\n",
       "      <td>43.340000</td>\n",
       "      <td>43.830002</td>\n",
       "      <td>43.250000</td>\n",
       "      <td>43.320000</td>\n",
       "      <td>34.163548</td>\n",
       "      <td>4193700</td>\n",
       "    </tr>\n",
       "  </tbody>\n",
       "</table>\n",
       "</div>"
      ],
      "text/plain": [
       "         Date       Open       High        Low      Close  Adj Close   Volume\n",
       "0  2014-07-28  44.619999  45.430000  44.619999  45.360001  35.349178  5568900\n",
       "1  2014-07-29  45.470001  45.470001  44.669998  44.860001  34.959522  5499600\n",
       "2  2014-07-30  45.000000  45.000000  44.009998  44.380001  34.585461  6945200\n",
       "3  2014-07-31  43.889999  43.889999  43.220001  43.290001  34.139881  5675300\n",
       "4  2014-08-01  43.340000  43.830002  43.250000  43.320000  34.163548  4193700"
      ]
     },
     "execution_count": 7,
     "metadata": {},
     "output_type": "execute_result"
    }
   ],
   "source": [
    "df_southern_co.head()"
   ]
  },
  {
   "cell_type": "code",
   "execution_count": 8,
   "id": "eac225fa",
   "metadata": {},
   "outputs": [
    {
     "data": {
      "text/plain": [
       "Date          object\n",
       "Open         float64\n",
       "High         float64\n",
       "Low          float64\n",
       "Close        float64\n",
       "Adj Close    float64\n",
       "Volume         int64\n",
       "dtype: object"
      ]
     },
     "execution_count": 8,
     "metadata": {},
     "output_type": "execute_result"
    }
   ],
   "source": [
    "df_dominion_energy.dtypes"
   ]
  },
  {
   "cell_type": "code",
   "execution_count": 9,
   "id": "5164b1c6",
   "metadata": {},
   "outputs": [
    {
     "data": {
      "text/plain": [
       "Date          object\n",
       "Open         float64\n",
       "High         float64\n",
       "Low          float64\n",
       "Close        float64\n",
       "Adj Close    float64\n",
       "Volume         int64\n",
       "dtype: object"
      ]
     },
     "execution_count": 9,
     "metadata": {},
     "output_type": "execute_result"
    }
   ],
   "source": [
    "df_duke_energy.dtypes"
   ]
  },
  {
   "cell_type": "code",
   "execution_count": 10,
   "id": "07d8e1fc",
   "metadata": {},
   "outputs": [
    {
     "data": {
      "text/plain": [
       "Date          object\n",
       "Open         float64\n",
       "High         float64\n",
       "Low          float64\n",
       "Close        float64\n",
       "Adj Close    float64\n",
       "Volume         int64\n",
       "dtype: object"
      ]
     },
     "execution_count": 10,
     "metadata": {},
     "output_type": "execute_result"
    }
   ],
   "source": [
    "df_exelon_co.dtypes"
   ]
  },
  {
   "cell_type": "code",
   "execution_count": 11,
   "id": "d0acf478",
   "metadata": {},
   "outputs": [
    {
     "data": {
      "text/plain": [
       "Date          object\n",
       "Open         float64\n",
       "High         float64\n",
       "Low          float64\n",
       "Close        float64\n",
       "Adj Close    float64\n",
       "Volume         int64\n",
       "dtype: object"
      ]
     },
     "execution_count": 11,
     "metadata": {},
     "output_type": "execute_result"
    }
   ],
   "source": [
    "df_next_era_energy.dtypes"
   ]
  },
  {
   "cell_type": "code",
   "execution_count": 12,
   "id": "9aa145f4",
   "metadata": {},
   "outputs": [
    {
     "data": {
      "text/plain": [
       "Date          object\n",
       "Open         float64\n",
       "High         float64\n",
       "Low          float64\n",
       "Close        float64\n",
       "Adj Close    float64\n",
       "Volume         int64\n",
       "dtype: object"
      ]
     },
     "execution_count": 12,
     "metadata": {},
     "output_type": "execute_result"
    }
   ],
   "source": [
    "df_southern_co.dtypes"
   ]
  },
  {
   "cell_type": "markdown",
   "id": "d5f4d988",
   "metadata": {},
   "source": [
    "# EDA (Exploratory Data Analysis)"
   ]
  },
  {
   "cell_type": "code",
   "execution_count": 13,
   "id": "7501faac",
   "metadata": {},
   "outputs": [
    {
     "data": {
      "text/html": [
       "<div>\n",
       "<style scoped>\n",
       "    .dataframe tbody tr th:only-of-type {\n",
       "        vertical-align: middle;\n",
       "    }\n",
       "\n",
       "    .dataframe tbody tr th {\n",
       "        vertical-align: top;\n",
       "    }\n",
       "\n",
       "    .dataframe thead th {\n",
       "        text-align: right;\n",
       "    }\n",
       "</style>\n",
       "<table border=\"1\" class=\"dataframe\">\n",
       "  <thead>\n",
       "    <tr style=\"text-align: right;\">\n",
       "      <th></th>\n",
       "      <th>Open</th>\n",
       "      <th>High</th>\n",
       "      <th>Low</th>\n",
       "      <th>Close</th>\n",
       "      <th>Adj Close</th>\n",
       "      <th>Volume</th>\n",
       "    </tr>\n",
       "  </thead>\n",
       "  <tbody>\n",
       "    <tr>\n",
       "      <th>count</th>\n",
       "      <td>1259.000000</td>\n",
       "      <td>1259.000000</td>\n",
       "      <td>1259.000000</td>\n",
       "      <td>1259.000000</td>\n",
       "      <td>1259.000000</td>\n",
       "      <td>1.259000e+03</td>\n",
       "    </tr>\n",
       "    <tr>\n",
       "      <th>mean</th>\n",
       "      <td>73.253765</td>\n",
       "      <td>73.780842</td>\n",
       "      <td>72.697911</td>\n",
       "      <td>73.274940</td>\n",
       "      <td>66.085561</td>\n",
       "      <td>3.088129e+06</td>\n",
       "    </tr>\n",
       "    <tr>\n",
       "      <th>std</th>\n",
       "      <td>4.187696</td>\n",
       "      <td>4.162946</td>\n",
       "      <td>4.177581</td>\n",
       "      <td>4.182135</td>\n",
       "      <td>5.939300</td>\n",
       "      <td>1.548809e+06</td>\n",
       "    </tr>\n",
       "    <tr>\n",
       "      <th>min</th>\n",
       "      <td>61.790001</td>\n",
       "      <td>62.840000</td>\n",
       "      <td>61.529999</td>\n",
       "      <td>61.750000</td>\n",
       "      <td>53.081856</td>\n",
       "      <td>7.384000e+05</td>\n",
       "    </tr>\n",
       "    <tr>\n",
       "      <th>25%</th>\n",
       "      <td>70.220001</td>\n",
       "      <td>70.829998</td>\n",
       "      <td>69.685001</td>\n",
       "      <td>70.239998</td>\n",
       "      <td>60.560028</td>\n",
       "      <td>2.088800e+06</td>\n",
       "    </tr>\n",
       "    <tr>\n",
       "      <th>50%</th>\n",
       "      <td>73.180000</td>\n",
       "      <td>73.690002</td>\n",
       "      <td>72.550003</td>\n",
       "      <td>73.150002</td>\n",
       "      <td>66.141464</td>\n",
       "      <td>2.695700e+06</td>\n",
       "    </tr>\n",
       "    <tr>\n",
       "      <th>75%</th>\n",
       "      <td>76.560001</td>\n",
       "      <td>76.954998</td>\n",
       "      <td>75.959999</td>\n",
       "      <td>76.510002</td>\n",
       "      <td>70.556973</td>\n",
       "      <td>3.612850e+06</td>\n",
       "    </tr>\n",
       "    <tr>\n",
       "      <th>max</th>\n",
       "      <td>85.110001</td>\n",
       "      <td>85.300003</td>\n",
       "      <td>83.900002</td>\n",
       "      <td>84.910004</td>\n",
       "      <td>79.220001</td>\n",
       "      <td>1.458740e+07</td>\n",
       "    </tr>\n",
       "  </tbody>\n",
       "</table>\n",
       "</div>"
      ],
      "text/plain": [
       "              Open         High          Low        Close    Adj Close   \n",
       "count  1259.000000  1259.000000  1259.000000  1259.000000  1259.000000  \\\n",
       "mean     73.253765    73.780842    72.697911    73.274940    66.085561   \n",
       "std       4.187696     4.162946     4.177581     4.182135     5.939300   \n",
       "min      61.790001    62.840000    61.529999    61.750000    53.081856   \n",
       "25%      70.220001    70.829998    69.685001    70.239998    60.560028   \n",
       "50%      73.180000    73.690002    72.550003    73.150002    66.141464   \n",
       "75%      76.560001    76.954998    75.959999    76.510002    70.556973   \n",
       "max      85.110001    85.300003    83.900002    84.910004    79.220001   \n",
       "\n",
       "             Volume  \n",
       "count  1.259000e+03  \n",
       "mean   3.088129e+06  \n",
       "std    1.548809e+06  \n",
       "min    7.384000e+05  \n",
       "25%    2.088800e+06  \n",
       "50%    2.695700e+06  \n",
       "75%    3.612850e+06  \n",
       "max    1.458740e+07  "
      ]
     },
     "execution_count": 13,
     "metadata": {},
     "output_type": "execute_result"
    }
   ],
   "source": [
    "df_dominion_energy.describe()"
   ]
  },
  {
   "cell_type": "code",
   "execution_count": 14,
   "id": "8586e78b",
   "metadata": {},
   "outputs": [
    {
     "data": {
      "text/html": [
       "<div>\n",
       "<style scoped>\n",
       "    .dataframe tbody tr th:only-of-type {\n",
       "        vertical-align: middle;\n",
       "    }\n",
       "\n",
       "    .dataframe tbody tr th {\n",
       "        vertical-align: top;\n",
       "    }\n",
       "\n",
       "    .dataframe thead th {\n",
       "        text-align: right;\n",
       "    }\n",
       "</style>\n",
       "<table border=\"1\" class=\"dataframe\">\n",
       "  <thead>\n",
       "    <tr style=\"text-align: right;\">\n",
       "      <th></th>\n",
       "      <th>Open</th>\n",
       "      <th>High</th>\n",
       "      <th>Low</th>\n",
       "      <th>Close</th>\n",
       "      <th>Adj Close</th>\n",
       "      <th>Volume</th>\n",
       "    </tr>\n",
       "  </thead>\n",
       "  <tbody>\n",
       "    <tr>\n",
       "      <th>count</th>\n",
       "      <td>1259.000000</td>\n",
       "      <td>1259.000000</td>\n",
       "      <td>1259.000000</td>\n",
       "      <td>1259.000000</td>\n",
       "      <td>1259.000000</td>\n",
       "      <td>1.259000e+03</td>\n",
       "    </tr>\n",
       "    <tr>\n",
       "      <th>mean</th>\n",
       "      <td>80.261271</td>\n",
       "      <td>80.831779</td>\n",
       "      <td>79.672311</td>\n",
       "      <td>80.282121</td>\n",
       "      <td>72.388174</td>\n",
       "      <td>3.293312e+06</td>\n",
       "    </tr>\n",
       "    <tr>\n",
       "      <th>std</th>\n",
       "      <td>5.772322</td>\n",
       "      <td>5.743320</td>\n",
       "      <td>5.758818</td>\n",
       "      <td>5.768632</td>\n",
       "      <td>8.926696</td>\n",
       "      <td>1.208710e+06</td>\n",
       "    </tr>\n",
       "    <tr>\n",
       "      <th>min</th>\n",
       "      <td>66.040001</td>\n",
       "      <td>66.730003</td>\n",
       "      <td>65.500000</td>\n",
       "      <td>65.830002</td>\n",
       "      <td>55.641300</td>\n",
       "      <td>9.363000e+05</td>\n",
       "    </tr>\n",
       "    <tr>\n",
       "      <th>25%</th>\n",
       "      <td>76.150002</td>\n",
       "      <td>76.775002</td>\n",
       "      <td>75.580002</td>\n",
       "      <td>76.190002</td>\n",
       "      <td>65.014671</td>\n",
       "      <td>2.461750e+06</td>\n",
       "    </tr>\n",
       "    <tr>\n",
       "      <th>50%</th>\n",
       "      <td>80.139999</td>\n",
       "      <td>80.639999</td>\n",
       "      <td>79.559998</td>\n",
       "      <td>80.080002</td>\n",
       "      <td>72.047897</td>\n",
       "      <td>3.061600e+06</td>\n",
       "    </tr>\n",
       "    <tr>\n",
       "      <th>75%</th>\n",
       "      <td>85.045002</td>\n",
       "      <td>85.584999</td>\n",
       "      <td>84.505001</td>\n",
       "      <td>85.145001</td>\n",
       "      <td>78.676636</td>\n",
       "      <td>3.872250e+06</td>\n",
       "    </tr>\n",
       "    <tr>\n",
       "      <th>max</th>\n",
       "      <td>91.589996</td>\n",
       "      <td>91.800003</td>\n",
       "      <td>90.629997</td>\n",
       "      <td>91.529999</td>\n",
       "      <td>90.551842</td>\n",
       "      <td>1.556620e+07</td>\n",
       "    </tr>\n",
       "  </tbody>\n",
       "</table>\n",
       "</div>"
      ],
      "text/plain": [
       "              Open         High          Low        Close    Adj Close   \n",
       "count  1259.000000  1259.000000  1259.000000  1259.000000  1259.000000  \\\n",
       "mean     80.261271    80.831779    79.672311    80.282121    72.388174   \n",
       "std       5.772322     5.743320     5.758818     5.768632     8.926696   \n",
       "min      66.040001    66.730003    65.500000    65.830002    55.641300   \n",
       "25%      76.150002    76.775002    75.580002    76.190002    65.014671   \n",
       "50%      80.139999    80.639999    79.559998    80.080002    72.047897   \n",
       "75%      85.045002    85.584999    84.505001    85.145001    78.676636   \n",
       "max      91.589996    91.800003    90.629997    91.529999    90.551842   \n",
       "\n",
       "             Volume  \n",
       "count  1.259000e+03  \n",
       "mean   3.293312e+06  \n",
       "std    1.208710e+06  \n",
       "min    9.363000e+05  \n",
       "25%    2.461750e+06  \n",
       "50%    3.061600e+06  \n",
       "75%    3.872250e+06  \n",
       "max    1.556620e+07  "
      ]
     },
     "execution_count": 14,
     "metadata": {},
     "output_type": "execute_result"
    }
   ],
   "source": [
    "df_duke_energy.describe()"
   ]
  },
  {
   "cell_type": "code",
   "execution_count": 15,
   "id": "6cabf3be",
   "metadata": {},
   "outputs": [
    {
     "data": {
      "text/html": [
       "<div>\n",
       "<style scoped>\n",
       "    .dataframe tbody tr th:only-of-type {\n",
       "        vertical-align: middle;\n",
       "    }\n",
       "\n",
       "    .dataframe tbody tr th {\n",
       "        vertical-align: top;\n",
       "    }\n",
       "\n",
       "    .dataframe thead th {\n",
       "        text-align: right;\n",
       "    }\n",
       "</style>\n",
       "<table border=\"1\" class=\"dataframe\">\n",
       "  <thead>\n",
       "    <tr style=\"text-align: right;\">\n",
       "      <th></th>\n",
       "      <th>Open</th>\n",
       "      <th>High</th>\n",
       "      <th>Low</th>\n",
       "      <th>Close</th>\n",
       "      <th>Adj Close</th>\n",
       "      <th>Volume</th>\n",
       "    </tr>\n",
       "  </thead>\n",
       "  <tbody>\n",
       "    <tr>\n",
       "      <th>count</th>\n",
       "      <td>1259.000000</td>\n",
       "      <td>1259.000000</td>\n",
       "      <td>1259.000000</td>\n",
       "      <td>1259.000000</td>\n",
       "      <td>1259.000000</td>\n",
       "      <td>1.259000e+03</td>\n",
       "    </tr>\n",
       "    <tr>\n",
       "      <th>mean</th>\n",
       "      <td>37.390866</td>\n",
       "      <td>37.713288</td>\n",
       "      <td>37.062915</td>\n",
       "      <td>37.401541</td>\n",
       "      <td>34.550121</td>\n",
       "      <td>6.061571e+06</td>\n",
       "    </tr>\n",
       "    <tr>\n",
       "      <th>std</th>\n",
       "      <td>5.701358</td>\n",
       "      <td>5.699233</td>\n",
       "      <td>5.679504</td>\n",
       "      <td>5.697838</td>\n",
       "      <td>7.073471</td>\n",
       "      <td>2.464832e+06</td>\n",
       "    </tr>\n",
       "    <tr>\n",
       "      <th>min</th>\n",
       "      <td>25.500000</td>\n",
       "      <td>26.010000</td>\n",
       "      <td>25.090000</td>\n",
       "      <td>25.459999</td>\n",
       "      <td>22.301353</td>\n",
       "      <td>1.432600e+06</td>\n",
       "    </tr>\n",
       "    <tr>\n",
       "      <th>25%</th>\n",
       "      <td>33.585001</td>\n",
       "      <td>33.990002</td>\n",
       "      <td>33.270000</td>\n",
       "      <td>33.660000</td>\n",
       "      <td>29.131476</td>\n",
       "      <td>4.432500e+06</td>\n",
       "    </tr>\n",
       "    <tr>\n",
       "      <th>50%</th>\n",
       "      <td>36.000000</td>\n",
       "      <td>36.330002</td>\n",
       "      <td>35.740002</td>\n",
       "      <td>36.029999</td>\n",
       "      <td>32.602367</td>\n",
       "      <td>5.527400e+06</td>\n",
       "    </tr>\n",
       "    <tr>\n",
       "      <th>75%</th>\n",
       "      <td>40.740000</td>\n",
       "      <td>41.154999</td>\n",
       "      <td>40.414999</td>\n",
       "      <td>40.775002</td>\n",
       "      <td>39.123289</td>\n",
       "      <td>7.109600e+06</td>\n",
       "    </tr>\n",
       "    <tr>\n",
       "      <th>max</th>\n",
       "      <td>50.770000</td>\n",
       "      <td>51.180000</td>\n",
       "      <td>50.459999</td>\n",
       "      <td>50.950001</td>\n",
       "      <td>50.799999</td>\n",
       "      <td>2.646560e+07</td>\n",
       "    </tr>\n",
       "  </tbody>\n",
       "</table>\n",
       "</div>"
      ],
      "text/plain": [
       "              Open         High          Low        Close    Adj Close   \n",
       "count  1259.000000  1259.000000  1259.000000  1259.000000  1259.000000  \\\n",
       "mean     37.390866    37.713288    37.062915    37.401541    34.550121   \n",
       "std       5.701358     5.699233     5.679504     5.697838     7.073471   \n",
       "min      25.500000    26.010000    25.090000    25.459999    22.301353   \n",
       "25%      33.585001    33.990002    33.270000    33.660000    29.131476   \n",
       "50%      36.000000    36.330002    35.740002    36.029999    32.602367   \n",
       "75%      40.740000    41.154999    40.414999    40.775002    39.123289   \n",
       "max      50.770000    51.180000    50.459999    50.950001    50.799999   \n",
       "\n",
       "             Volume  \n",
       "count  1.259000e+03  \n",
       "mean   6.061571e+06  \n",
       "std    2.464832e+06  \n",
       "min    1.432600e+06  \n",
       "25%    4.432500e+06  \n",
       "50%    5.527400e+06  \n",
       "75%    7.109600e+06  \n",
       "max    2.646560e+07  "
      ]
     },
     "execution_count": 15,
     "metadata": {},
     "output_type": "execute_result"
    }
   ],
   "source": [
    "df_exelon_co.describe()"
   ]
  },
  {
   "cell_type": "code",
   "execution_count": 16,
   "id": "671842b0",
   "metadata": {},
   "outputs": [
    {
     "data": {
      "text/html": [
       "<div>\n",
       "<style scoped>\n",
       "    .dataframe tbody tr th:only-of-type {\n",
       "        vertical-align: middle;\n",
       "    }\n",
       "\n",
       "    .dataframe tbody tr th {\n",
       "        vertical-align: top;\n",
       "    }\n",
       "\n",
       "    .dataframe thead th {\n",
       "        text-align: right;\n",
       "    }\n",
       "</style>\n",
       "<table border=\"1\" class=\"dataframe\">\n",
       "  <thead>\n",
       "    <tr style=\"text-align: right;\">\n",
       "      <th></th>\n",
       "      <th>Open</th>\n",
       "      <th>High</th>\n",
       "      <th>Low</th>\n",
       "      <th>Close</th>\n",
       "      <th>Adj Close</th>\n",
       "      <th>Volume</th>\n",
       "    </tr>\n",
       "  </thead>\n",
       "  <tbody>\n",
       "    <tr>\n",
       "      <th>count</th>\n",
       "      <td>1259.000000</td>\n",
       "      <td>1259.000000</td>\n",
       "      <td>1259.000000</td>\n",
       "      <td>1259.000000</td>\n",
       "      <td>1259.000000</td>\n",
       "      <td>1.259000e+03</td>\n",
       "    </tr>\n",
       "    <tr>\n",
       "      <th>mean</th>\n",
       "      <td>135.901096</td>\n",
       "      <td>136.906990</td>\n",
       "      <td>134.906902</td>\n",
       "      <td>135.988372</td>\n",
       "      <td>127.857267</td>\n",
       "      <td>2.034481e+06</td>\n",
       "    </tr>\n",
       "    <tr>\n",
       "      <th>std</th>\n",
       "      <td>31.715668</td>\n",
       "      <td>31.885979</td>\n",
       "      <td>31.506996</td>\n",
       "      <td>31.725571</td>\n",
       "      <td>35.628256</td>\n",
       "      <td>8.306920e+05</td>\n",
       "    </tr>\n",
       "    <tr>\n",
       "      <th>min</th>\n",
       "      <td>90.800003</td>\n",
       "      <td>93.019997</td>\n",
       "      <td>90.330002</td>\n",
       "      <td>91.820000</td>\n",
       "      <td>78.926949</td>\n",
       "      <td>5.528000e+05</td>\n",
       "    </tr>\n",
       "    <tr>\n",
       "      <th>25%</th>\n",
       "      <td>105.535000</td>\n",
       "      <td>106.360001</td>\n",
       "      <td>104.750000</td>\n",
       "      <td>105.570000</td>\n",
       "      <td>92.786857</td>\n",
       "      <td>1.493150e+06</td>\n",
       "    </tr>\n",
       "    <tr>\n",
       "      <th>50%</th>\n",
       "      <td>127.870003</td>\n",
       "      <td>128.559998</td>\n",
       "      <td>127.089996</td>\n",
       "      <td>128.089996</td>\n",
       "      <td>117.457153</td>\n",
       "      <td>1.848600e+06</td>\n",
       "    </tr>\n",
       "    <tr>\n",
       "      <th>75%</th>\n",
       "      <td>160.884995</td>\n",
       "      <td>161.735001</td>\n",
       "      <td>159.639999</td>\n",
       "      <td>160.580001</td>\n",
       "      <td>155.611863</td>\n",
       "      <td>2.344850e+06</td>\n",
       "    </tr>\n",
       "    <tr>\n",
       "      <th>max</th>\n",
       "      <td>211.800003</td>\n",
       "      <td>212.500000</td>\n",
       "      <td>209.399994</td>\n",
       "      <td>212.360001</td>\n",
       "      <td>212.360001</td>\n",
       "      <td>7.930000e+06</td>\n",
       "    </tr>\n",
       "  </tbody>\n",
       "</table>\n",
       "</div>"
      ],
      "text/plain": [
       "              Open         High          Low        Close    Adj Close   \n",
       "count  1259.000000  1259.000000  1259.000000  1259.000000  1259.000000  \\\n",
       "mean    135.901096   136.906990   134.906902   135.988372   127.857267   \n",
       "std      31.715668    31.885979    31.506996    31.725571    35.628256   \n",
       "min      90.800003    93.019997    90.330002    91.820000    78.926949   \n",
       "25%     105.535000   106.360001   104.750000   105.570000    92.786857   \n",
       "50%     127.870003   128.559998   127.089996   128.089996   117.457153   \n",
       "75%     160.884995   161.735001   159.639999   160.580001   155.611863   \n",
       "max     211.800003   212.500000   209.399994   212.360001   212.360001   \n",
       "\n",
       "             Volume  \n",
       "count  1.259000e+03  \n",
       "mean   2.034481e+06  \n",
       "std    8.306920e+05  \n",
       "min    5.528000e+05  \n",
       "25%    1.493150e+06  \n",
       "50%    1.848600e+06  \n",
       "75%    2.344850e+06  \n",
       "max    7.930000e+06  "
      ]
     },
     "execution_count": 16,
     "metadata": {},
     "output_type": "execute_result"
    }
   ],
   "source": [
    "df_next_era_energy.describe()"
   ]
  },
  {
   "cell_type": "code",
   "execution_count": 17,
   "id": "16f8056b",
   "metadata": {},
   "outputs": [
    {
     "data": {
      "text/html": [
       "<div>\n",
       "<style scoped>\n",
       "    .dataframe tbody tr th:only-of-type {\n",
       "        vertical-align: middle;\n",
       "    }\n",
       "\n",
       "    .dataframe tbody tr th {\n",
       "        vertical-align: top;\n",
       "    }\n",
       "\n",
       "    .dataframe thead th {\n",
       "        text-align: right;\n",
       "    }\n",
       "</style>\n",
       "<table border=\"1\" class=\"dataframe\">\n",
       "  <thead>\n",
       "    <tr style=\"text-align: right;\">\n",
       "      <th></th>\n",
       "      <th>Open</th>\n",
       "      <th>High</th>\n",
       "      <th>Low</th>\n",
       "      <th>Close</th>\n",
       "      <th>Adj Close</th>\n",
       "      <th>Volume</th>\n",
       "    </tr>\n",
       "  </thead>\n",
       "  <tbody>\n",
       "    <tr>\n",
       "      <th>count</th>\n",
       "      <td>1259.000000</td>\n",
       "      <td>1259.000000</td>\n",
       "      <td>1259.000000</td>\n",
       "      <td>1259.000000</td>\n",
       "      <td>1259.000000</td>\n",
       "      <td>1.259000e+03</td>\n",
       "    </tr>\n",
       "    <tr>\n",
       "      <th>mean</th>\n",
       "      <td>47.859928</td>\n",
       "      <td>48.193956</td>\n",
       "      <td>47.524496</td>\n",
       "      <td>47.887204</td>\n",
       "      <td>42.696480</td>\n",
       "      <td>5.283546e+06</td>\n",
       "    </tr>\n",
       "    <tr>\n",
       "      <th>std</th>\n",
       "      <td>3.339557</td>\n",
       "      <td>3.327449</td>\n",
       "      <td>3.334993</td>\n",
       "      <td>3.350945</td>\n",
       "      <td>4.860480</td>\n",
       "      <td>2.061100e+06</td>\n",
       "    </tr>\n",
       "    <tr>\n",
       "      <th>min</th>\n",
       "      <td>41.599998</td>\n",
       "      <td>41.900002</td>\n",
       "      <td>41.400002</td>\n",
       "      <td>41.610001</td>\n",
       "      <td>33.256622</td>\n",
       "      <td>1.155800e+06</td>\n",
       "    </tr>\n",
       "    <tr>\n",
       "      <th>25%</th>\n",
       "      <td>44.745001</td>\n",
       "      <td>45.090000</td>\n",
       "      <td>44.364999</td>\n",
       "      <td>44.740002</td>\n",
       "      <td>38.732672</td>\n",
       "      <td>3.945250e+06</td>\n",
       "    </tr>\n",
       "    <tr>\n",
       "      <th>50%</th>\n",
       "      <td>47.830002</td>\n",
       "      <td>48.130001</td>\n",
       "      <td>47.470001</td>\n",
       "      <td>47.910000</td>\n",
       "      <td>43.015224</td>\n",
       "      <td>4.853000e+06</td>\n",
       "    </tr>\n",
       "    <tr>\n",
       "      <th>75%</th>\n",
       "      <td>50.344999</td>\n",
       "      <td>50.660000</td>\n",
       "      <td>50.045000</td>\n",
       "      <td>50.380001</td>\n",
       "      <td>45.266668</td>\n",
       "      <td>6.067400e+06</td>\n",
       "    </tr>\n",
       "    <tr>\n",
       "      <th>max</th>\n",
       "      <td>56.820000</td>\n",
       "      <td>57.080002</td>\n",
       "      <td>56.340000</td>\n",
       "      <td>56.910000</td>\n",
       "      <td>56.910000</td>\n",
       "      <td>2.317010e+07</td>\n",
       "    </tr>\n",
       "  </tbody>\n",
       "</table>\n",
       "</div>"
      ],
      "text/plain": [
       "              Open         High          Low        Close    Adj Close   \n",
       "count  1259.000000  1259.000000  1259.000000  1259.000000  1259.000000  \\\n",
       "mean     47.859928    48.193956    47.524496    47.887204    42.696480   \n",
       "std       3.339557     3.327449     3.334993     3.350945     4.860480   \n",
       "min      41.599998    41.900002    41.400002    41.610001    33.256622   \n",
       "25%      44.745001    45.090000    44.364999    44.740002    38.732672   \n",
       "50%      47.830002    48.130001    47.470001    47.910000    43.015224   \n",
       "75%      50.344999    50.660000    50.045000    50.380001    45.266668   \n",
       "max      56.820000    57.080002    56.340000    56.910000    56.910000   \n",
       "\n",
       "             Volume  \n",
       "count  1.259000e+03  \n",
       "mean   5.283546e+06  \n",
       "std    2.061100e+06  \n",
       "min    1.155800e+06  \n",
       "25%    3.945250e+06  \n",
       "50%    4.853000e+06  \n",
       "75%    6.067400e+06  \n",
       "max    2.317010e+07  "
      ]
     },
     "execution_count": 17,
     "metadata": {},
     "output_type": "execute_result"
    }
   ],
   "source": [
    "df_southern_co.describe()"
   ]
  },
  {
   "cell_type": "markdown",
   "id": "f686b372",
   "metadata": {},
   "source": [
    "Our raw data values appear reasonable to the volatile nature of energy stocks and note that we have approx 3.45 years of data from each energy company. Here we continue to check for outliers with a visual analysis. "
   ]
  },
  {
   "cell_type": "markdown",
   "id": "7c0f7266",
   "metadata": {},
   "source": [
    "## Box Plots"
   ]
  },
  {
   "cell_type": "markdown",
   "id": "37781d62",
   "metadata": {},
   "source": [
    "### Dominion Energy Inc."
   ]
  },
  {
   "cell_type": "code",
   "execution_count": 18,
   "id": "5261d0a1",
   "metadata": {},
   "outputs": [
    {
     "data": {
      "image/png": "[encoded data removed]",
      "text/plain": [
       "<Figure size 640x480 with 1 Axes>"
      ]
     },
     "metadata": {},
     "output_type": "display_data"
    },
    {
     "data": {
      "image/png": "[encoded data removed]",
      "text/plain": [
       "<Figure size 640x480 with 1 Axes>"
      ]
     },
     "metadata": {},
     "output_type": "display_data"
    }
   ],
   "source": [
    "# Create box plots for financial features\n",
    "df_dominion_energy.boxplot(column = ['Open','High', 'Low', 'Close', 'Adj Close'] )\n",
    "plt.title('Dominion Energy Box Plot - Open, High, Low, Close, Adj Close')\n",
    "plt.show()\n",
    "\n",
    "# Create box plot for trading volume\n",
    "df_dominion_energy.boxplot(column = ['Volume'] )\n",
    "plt.title('Dominion Energy Box Plot - Volume')\n",
    "plt.show()"
   ]
  },
  {
   "cell_type": "markdown",
   "id": "61162db5",
   "metadata": {},
   "source": [
    "### Duke Energy Corp."
   ]
  },
  {
   "cell_type": "code",
   "execution_count": 19,
   "id": "ab5a8745",
   "metadata": {},
   "outputs": [
    {
     "data": {
      "image/png": "[encoded data removed]",
      "text/plain": [
       "<Figure size 640x480 with 1 Axes>"
      ]
     },
     "metadata": {},
     "output_type": "display_data"
    },
    {
     "data": {
      "image/png": "[encoded data removed]",
      "text/plain": [
       "<Figure size 640x480 with 1 Axes>"
      ]
     },
     "metadata": {},
     "output_type": "display_data"
    }
   ],
   "source": [
    "# Create box plots for financial features\n",
    "df_duke_energy.boxplot(column = ['Open','High', 'Low', 'Close', 'Adj Close'] )\n",
    "plt.title('Duke Energy Box Plot - Open, High, Low, Close, Adj Close')\n",
    "plt.show()\n",
    "\n",
    "# Create box plot for trading volume\n",
    "df_duke_energy.boxplot(column = ['Volume'] )\n",
    "plt.title('Duke Energy Box Plot - Volume')\n",
    "plt.show()"
   ]
  },
  {
   "cell_type": "markdown",
   "id": "88c017dc",
   "metadata": {},
   "source": [
    "### Exelon Corp."
   ]
  },
  {
   "cell_type": "code",
   "execution_count": 20,
   "id": "939324cc",
   "metadata": {},
   "outputs": [
    {
     "data": {
      "image/png": "[encoded data removed]",
      "text/plain": [
       "<Figure size 640x480 with 1 Axes>"
      ]
     },
     "metadata": {},
     "output_type": "display_data"
    },
    {
     "data": {
      "image/png": "[encoded data removed]",
      "text/plain": [
       "<Figure size 640x480 with 1 Axes>"
      ]
     },
     "metadata": {},
     "output_type": "display_data"
    }
   ],
   "source": [
    "# Create box plots for financial features\n",
    "df_exelon_co.boxplot(column = ['Open','High', 'Low', 'Close', 'Adj Close'] )\n",
    "plt.title('Exelon Corp Box Plot - Open, High, Low, Close, Adj Close')\n",
    "plt.show()\n",
    "\n",
    "# Create box plot for trading volume\n",
    "df_exelon_co.boxplot(column = ['Volume'] )\n",
    "plt.title('Exelon Corp Box Plot - Volume')\n",
    "plt.show()"
   ]
  },
  {
   "cell_type": "markdown",
   "id": "21a243a6",
   "metadata": {},
   "source": [
    "### NextEra Energy Inc."
   ]
  },
  {
   "cell_type": "code",
   "execution_count": 21,
   "id": "891390e3",
   "metadata": {},
   "outputs": [
    {
     "data": {
      "image/png": "[encoded data removed]",
      "text/plain": [
       "<Figure size 640x480 with 1 Axes>"
      ]
     },
     "metadata": {},
     "output_type": "display_data"
    },
    {
     "data": {
      "image/png": "[encoded data removed]",
      "text/plain": [
       "<Figure size 640x480 with 1 Axes>"
      ]
     },
     "metadata": {},
     "output_type": "display_data"
    }
   ],
   "source": [
    "# Create box plots for financial features\n",
    "df_next_era_energy.boxplot(column = ['Open','High', 'Low', 'Close', 'Adj Close'] )\n",
    "plt.title('Next Era Energy Box Plot - Open, High, Low, Close, Adj Close')\n",
    "plt.show()\n",
    "\n",
    "# Create box plot for trading volume\n",
    "df_next_era_energy.boxplot(column = ['Volume'] )\n",
    "plt.title('Next Era Energy Box Plot - Volume')\n",
    "plt.show()"
   ]
  },
  {
   "cell_type": "markdown",
   "id": "ac9f07ef",
   "metadata": {},
   "source": [
    "### Southern Co."
   ]
  },
  {
   "cell_type": "code",
   "execution_count": 22,
   "id": "7ad023e0",
   "metadata": {},
   "outputs": [
    {
     "data": {
      "image/png": "[encoded data removed]",
      "text/plain": [
       "<Figure size 640x480 with 1 Axes>"
      ]
     },
     "metadata": {},
     "output_type": "display_data"
    },
    {
     "data": {
      "image/png": "[encoded data removed]",
      "text/plain": [
       "<Figure size 640x480 with 1 Axes>"
      ]
     },
     "metadata": {},
     "output_type": "display_data"
    }
   ],
   "source": [
    "# Create box plots for financial features\n",
    "df_southern_co.boxplot(column = ['Open','High', 'Low', 'Close', 'Adj Close'] )\n",
    "plt.title('Southern Co Box Plot - Open, High, Low, Close, Adj Close')\n",
    "plt.show()\n",
    "\n",
    "# Create box plot for trading volume\n",
    "df_southern_co.boxplot(column = ['Volume'] )\n",
    "plt.title('Southern Co Box Plot - Volume')\n",
    "plt.show()"
   ]
  },
  {
   "cell_type": "markdown",
   "id": "02c6c99a",
   "metadata": {},
   "source": [
    "## Aggregate Data"
   ]
  },
  {
   "cell_type": "code",
   "execution_count": 23,
   "id": "7d93c26e",
   "metadata": {},
   "outputs": [
    {
     "data": {
      "text/html": [
       "<div>\n",
       "<style scoped>\n",
       "    .dataframe tbody tr th:only-of-type {\n",
       "        vertical-align: middle;\n",
       "    }\n",
       "\n",
       "    .dataframe tbody tr th {\n",
       "        vertical-align: top;\n",
       "    }\n",
       "\n",
       "    .dataframe thead th {\n",
       "        text-align: right;\n",
       "    }\n",
       "</style>\n",
       "<table border=\"1\" class=\"dataframe\">\n",
       "  <thead>\n",
       "    <tr style=\"text-align: right;\">\n",
       "      <th></th>\n",
       "      <th>Open</th>\n",
       "      <th>High</th>\n",
       "      <th>Low</th>\n",
       "      <th>Close</th>\n",
       "      <th>Adj Close</th>\n",
       "      <th>Volume</th>\n",
       "    </tr>\n",
       "  </thead>\n",
       "  <tbody>\n",
       "    <tr>\n",
       "      <th>count</th>\n",
       "      <td>6295.000000</td>\n",
       "      <td>6295.000000</td>\n",
       "      <td>6295.000000</td>\n",
       "      <td>6295.000000</td>\n",
       "      <td>6295.000000</td>\n",
       "      <td>6.295000e+03</td>\n",
       "    </tr>\n",
       "    <tr>\n",
       "      <th>mean</th>\n",
       "      <td>74.933385</td>\n",
       "      <td>75.485371</td>\n",
       "      <td>74.372907</td>\n",
       "      <td>74.966836</td>\n",
       "      <td>68.715521</td>\n",
       "      <td>3.952208e+06</td>\n",
       "    </tr>\n",
       "    <tr>\n",
       "      <th>std</th>\n",
       "      <td>37.393360</td>\n",
       "      <td>37.647004</td>\n",
       "      <td>37.135009</td>\n",
       "      <td>37.417673</td>\n",
       "      <td>36.933274</td>\n",
       "      <td>2.277982e+06</td>\n",
       "    </tr>\n",
       "    <tr>\n",
       "      <th>min</th>\n",
       "      <td>25.500000</td>\n",
       "      <td>26.010000</td>\n",
       "      <td>25.090000</td>\n",
       "      <td>25.459999</td>\n",
       "      <td>22.301353</td>\n",
       "      <td>5.528000e+05</td>\n",
       "    </tr>\n",
       "    <tr>\n",
       "      <th>25%</th>\n",
       "      <td>46.164999</td>\n",
       "      <td>46.545000</td>\n",
       "      <td>45.820000</td>\n",
       "      <td>46.225001</td>\n",
       "      <td>42.327147</td>\n",
       "      <td>2.287150e+06</td>\n",
       "    </tr>\n",
       "    <tr>\n",
       "      <th>50%</th>\n",
       "      <td>72.150002</td>\n",
       "      <td>72.709999</td>\n",
       "      <td>71.610001</td>\n",
       "      <td>72.190002</td>\n",
       "      <td>62.251740</td>\n",
       "      <td>3.441400e+06</td>\n",
       "    </tr>\n",
       "    <tr>\n",
       "      <th>75%</th>\n",
       "      <td>85.065002</td>\n",
       "      <td>85.584999</td>\n",
       "      <td>84.505001</td>\n",
       "      <td>85.145001</td>\n",
       "      <td>78.711499</td>\n",
       "      <td>5.011350e+06</td>\n",
       "    </tr>\n",
       "    <tr>\n",
       "      <th>max</th>\n",
       "      <td>211.800003</td>\n",
       "      <td>212.500000</td>\n",
       "      <td>209.399994</td>\n",
       "      <td>212.360001</td>\n",
       "      <td>212.360001</td>\n",
       "      <td>2.646560e+07</td>\n",
       "    </tr>\n",
       "  </tbody>\n",
       "</table>\n",
       "</div>"
      ],
      "text/plain": [
       "              Open         High          Low        Close    Adj Close   \n",
       "count  6295.000000  6295.000000  6295.000000  6295.000000  6295.000000  \\\n",
       "mean     74.933385    75.485371    74.372907    74.966836    68.715521   \n",
       "std      37.393360    37.647004    37.135009    37.417673    36.933274   \n",
       "min      25.500000    26.010000    25.090000    25.459999    22.301353   \n",
       "25%      46.164999    46.545000    45.820000    46.225001    42.327147   \n",
       "50%      72.150002    72.709999    71.610001    72.190002    62.251740   \n",
       "75%      85.065002    85.584999    84.505001    85.145001    78.711499   \n",
       "max     211.800003   212.500000   209.399994   212.360001   212.360001   \n",
       "\n",
       "             Volume  \n",
       "count  6.295000e+03  \n",
       "mean   3.952208e+06  \n",
       "std    2.277982e+06  \n",
       "min    5.528000e+05  \n",
       "25%    2.287150e+06  \n",
       "50%    3.441400e+06  \n",
       "75%    5.011350e+06  \n",
       "max    2.646560e+07  "
      ]
     },
     "execution_count": 23,
     "metadata": {},
     "output_type": "execute_result"
    }
   ],
   "source": [
    "# Concatenate the data vertically\n",
    "df_combined = pd.concat([df_dominion_energy, df_duke_energy, df_exelon_co, df_next_era_energy, df_southern_co], axis=0)\n",
    "\n",
    "# Reset the index of the combined data frame, ensuring a continuous index\n",
    "df_combined = df_combined.reset_index(drop=True)\n",
    "\n",
    "df_combined.describe()"
   ]
  },
  {
   "cell_type": "code",
   "execution_count": 24,
   "id": "cdb60c2f",
   "metadata": {},
   "outputs": [
    {
     "data": {
      "image/png": "[encoded data removed]",
      "text/plain": [
       "<Figure size 640x480 with 1 Axes>"
      ]
     },
     "metadata": {},
     "output_type": "display_data"
    },
    {
     "data": {
      "image/png": "[encoded data removed]",
      "text/plain": [
       "<Figure size 640x480 with 1 Axes>"
      ]
     },
     "metadata": {},
     "output_type": "display_data"
    }
   ],
   "source": [
    "# Create box plots for financial features\n",
    "df_combined.boxplot(column = ['Open', 'High', 'Low', 'Close', 'Adj Close'] )\n",
    "plt.title('Combined Energy Stocks Box Plot - Open, High, Low, Close, Adj Close')\n",
    "plt.show()\n",
    "\n",
    "# Create box plot for trading volume\n",
    "df_combined.boxplot(column = ['Volume'] )\n",
    "plt.title('Combined Energy Stocks Box Plot - Volume')\n",
    "plt.show()"
   ]
  },
  {
   "cell_type": "markdown",
   "id": "08b0e914",
   "metadata": {},
   "source": [
    "## Data Cleaning"
   ]
  },
  {
   "cell_type": "code",
   "execution_count": 25,
   "id": "8bcf6b24",
   "metadata": {},
   "outputs": [
    {
     "name": "stdout",
     "output_type": "stream",
     "text": [
      "Number of null values in each column:\n",
      "Date         0\n",
      "Open         0\n",
      "High         0\n",
      "Low          0\n",
      "Close        0\n",
      "Adj Close    0\n",
      "Volume       0\n",
      "dtype: int64\n",
      "\n",
      "Columns with null values:\n",
      "Index([], dtype='object')\n"
     ]
    }
   ],
   "source": [
    "# Get the number of null values and corresponding columns\n",
    "null_counts = df_combined.isnull().sum()\n",
    "null_columns = null_counts[null_counts > 0].index\n",
    "\n",
    "# Display null results\n",
    "print(\"Number of null values in each column:\")\n",
    "print(null_counts)\n",
    "\n",
    "print(\"\\nColumns with null values:\")\n",
    "print(null_columns)"
   ]
  },
  {
   "cell_type": "code",
   "execution_count": 26,
   "id": "05cd0d87",
   "metadata": {},
   "outputs": [
    {
     "data": {
      "text/plain": [
       "Date         datetime64[ns]\n",
       "Open                float64\n",
       "High                float64\n",
       "Low                 float64\n",
       "Close               float64\n",
       "Adj Close           float64\n",
       "Volume                int64\n",
       "dtype: object"
      ]
     },
     "execution_count": 26,
     "metadata": {},
     "output_type": "execute_result"
    }
   ],
   "source": [
    "# Convert 'Date' into a datetime object\n",
    "df_combined['Date'] = pd.to_datetime(df_combined['Date'])\n",
    "\n",
    "df_combined.dtypes"
   ]
  },
  {
   "cell_type": "markdown",
   "id": "fe442c33",
   "metadata": {},
   "source": [
    "### Address Outliers \n",
    "\n",
    "Here we remove outliers in ‘Volume’ but leave outliers within financial values, which contribute to the volatility, to provide estimates skeptical to higher levels of trading"
   ]
  },
  {
   "cell_type": "code",
   "execution_count": 27,
   "id": "00ea658a",
   "metadata": {},
   "outputs": [
    {
     "data": {
      "image/png": "[encoded data removed]",
      "text/plain": [
       "<Figure size 640x480 with 1 Axes>"
      ]
     },
     "metadata": {},
     "output_type": "display_data"
    },
    {
     "data": {
      "text/html": [
       "<div>\n",
       "<style scoped>\n",
       "    .dataframe tbody tr th:only-of-type {\n",
       "        vertical-align: middle;\n",
       "    }\n",
       "\n",
       "    .dataframe tbody tr th {\n",
       "        vertical-align: top;\n",
       "    }\n",
       "\n",
       "    .dataframe thead th {\n",
       "        text-align: right;\n",
       "    }\n",
       "</style>\n",
       "<table border=\"1\" class=\"dataframe\">\n",
       "  <thead>\n",
       "    <tr style=\"text-align: right;\">\n",
       "      <th></th>\n",
       "      <th>Date</th>\n",
       "      <th>Open</th>\n",
       "      <th>High</th>\n",
       "      <th>Low</th>\n",
       "      <th>Close</th>\n",
       "      <th>Adj Close</th>\n",
       "      <th>Volume</th>\n",
       "    </tr>\n",
       "  </thead>\n",
       "  <tbody>\n",
       "    <tr>\n",
       "      <th>count</th>\n",
       "      <td>6211</td>\n",
       "      <td>6211.000000</td>\n",
       "      <td>6211.000000</td>\n",
       "      <td>6211.000000</td>\n",
       "      <td>6211.000000</td>\n",
       "      <td>6211.000000</td>\n",
       "      <td>6.211000e+03</td>\n",
       "    </tr>\n",
       "    <tr>\n",
       "      <th>mean</th>\n",
       "      <td>2017-01-26 12:25:23.232973824</td>\n",
       "      <td>75.396146</td>\n",
       "      <td>75.947822</td>\n",
       "      <td>74.835568</td>\n",
       "      <td>75.430390</td>\n",
       "      <td>69.151901</td>\n",
       "      <td>3.823316e+06</td>\n",
       "    </tr>\n",
       "    <tr>\n",
       "      <th>min</th>\n",
       "      <td>2014-07-28 00:00:00</td>\n",
       "      <td>25.500000</td>\n",
       "      <td>26.049999</td>\n",
       "      <td>25.459999</td>\n",
       "      <td>25.650000</td>\n",
       "      <td>22.467779</td>\n",
       "      <td>5.528000e+05</td>\n",
       "    </tr>\n",
       "    <tr>\n",
       "      <th>25%</th>\n",
       "      <td>2015-10-27 12:00:00</td>\n",
       "      <td>46.585001</td>\n",
       "      <td>46.985000</td>\n",
       "      <td>46.210001</td>\n",
       "      <td>46.655001</td>\n",
       "      <td>42.682846</td>\n",
       "      <td>2.271500e+06</td>\n",
       "    </tr>\n",
       "    <tr>\n",
       "      <th>50%</th>\n",
       "      <td>2017-01-31 00:00:00</td>\n",
       "      <td>72.349998</td>\n",
       "      <td>72.989998</td>\n",
       "      <td>71.849998</td>\n",
       "      <td>72.349998</td>\n",
       "      <td>62.704693</td>\n",
       "      <td>3.405200e+06</td>\n",
       "    </tr>\n",
       "    <tr>\n",
       "      <th>75%</th>\n",
       "      <td>2018-04-27 00:00:00</td>\n",
       "      <td>85.369999</td>\n",
       "      <td>86.055001</td>\n",
       "      <td>84.814999</td>\n",
       "      <td>85.584999</td>\n",
       "      <td>79.073143</td>\n",
       "      <td>4.931650e+06</td>\n",
       "    </tr>\n",
       "    <tr>\n",
       "      <th>max</th>\n",
       "      <td>2019-07-26 00:00:00</td>\n",
       "      <td>211.800003</td>\n",
       "      <td>212.500000</td>\n",
       "      <td>209.399994</td>\n",
       "      <td>212.360001</td>\n",
       "      <td>212.360001</td>\n",
       "      <td>1.078240e+07</td>\n",
       "    </tr>\n",
       "    <tr>\n",
       "      <th>std</th>\n",
       "      <td>NaN</td>\n",
       "      <td>37.399018</td>\n",
       "      <td>37.655826</td>\n",
       "      <td>37.137754</td>\n",
       "      <td>37.422835</td>\n",
       "      <td>36.957254</td>\n",
       "      <td>1.972842e+06</td>\n",
       "    </tr>\n",
       "  </tbody>\n",
       "</table>\n",
       "</div>"
      ],
      "text/plain": [
       "                                Date         Open         High          Low   \n",
       "count                           6211  6211.000000  6211.000000  6211.000000  \\\n",
       "mean   2017-01-26 12:25:23.232973824    75.396146    75.947822    74.835568   \n",
       "min              2014-07-28 00:00:00    25.500000    26.049999    25.459999   \n",
       "25%              2015-10-27 12:00:00    46.585001    46.985000    46.210001   \n",
       "50%              2017-01-31 00:00:00    72.349998    72.989998    71.849998   \n",
       "75%              2018-04-27 00:00:00    85.369999    86.055001    84.814999   \n",
       "max              2019-07-26 00:00:00   211.800003   212.500000   209.399994   \n",
       "std                              NaN    37.399018    37.655826    37.137754   \n",
       "\n",
       "             Close    Adj Close        Volume  \n",
       "count  6211.000000  6211.000000  6.211000e+03  \n",
       "mean     75.430390    69.151901  3.823316e+06  \n",
       "min      25.650000    22.467779  5.528000e+05  \n",
       "25%      46.655001    42.682846  2.271500e+06  \n",
       "50%      72.349998    62.704693  3.405200e+06  \n",
       "75%      85.584999    79.073143  4.931650e+06  \n",
       "max     212.360001   212.360001  1.078240e+07  \n",
       "std      37.422835    36.957254  1.972842e+06  "
      ]
     },
     "execution_count": 27,
     "metadata": {},
     "output_type": "execute_result"
    }
   ],
   "source": [
    "from scipy.stats import zscore\n",
    "\n",
    "# Adjust threshold as needed\n",
    "threshold = 3\n",
    "\n",
    "# Calculate z-scores for the column\n",
    "z_scores = zscore(df_combined['Volume'])\n",
    "# Create a boolean mask for identifying outliers\n",
    "outlier_mask = abs(z_scores) > threshold\n",
    "# Filter the DataFrame to exclude rows with outliers\n",
    "df_combined_without_vol_outliers = df_combined[~outlier_mask].copy()\n",
    "\n",
    "# Create the box plot\n",
    "df_combined_without_vol_outliers.boxplot(column = ['Volume'] )\n",
    "plt.title('Combined Energy Stocks Box Plot - Volume')\n",
    "plt.show()\n",
    "\n",
    "df_combined_without_vol_outliers.describe()"
   ]
  },
  {
   "cell_type": "markdown",
   "id": "3d4c6c87",
   "metadata": {},
   "source": [
    "# Determine Correlation Between Volatility and Trading Volume\n",
    "Here we need to calculate volatility, typically measured as the standard deviation of daily returns\n",
    "\n",
    "## Step 1: Calculate Daily Returns \n",
    "This can be achieved by creating a new column in the DataFrame that represents the percentage change in the adjusted closing prices"
   ]
  },
  {
   "cell_type": "code",
   "execution_count": 28,
   "id": "9038a57a",
   "metadata": {},
   "outputs": [
    {
     "data": {
      "text/html": [
       "<div>\n",
       "<style scoped>\n",
       "    .dataframe tbody tr th:only-of-type {\n",
       "        vertical-align: middle;\n",
       "    }\n",
       "\n",
       "    .dataframe tbody tr th {\n",
       "        vertical-align: top;\n",
       "    }\n",
       "\n",
       "    .dataframe thead th {\n",
       "        text-align: right;\n",
       "    }\n",
       "</style>\n",
       "<table border=\"1\" class=\"dataframe\">\n",
       "  <thead>\n",
       "    <tr style=\"text-align: right;\">\n",
       "      <th></th>\n",
       "      <th>Date</th>\n",
       "      <th>Open</th>\n",
       "      <th>High</th>\n",
       "      <th>Low</th>\n",
       "      <th>Close</th>\n",
       "      <th>Adj Close</th>\n",
       "      <th>Volume</th>\n",
       "      <th>DailyReturns</th>\n",
       "    </tr>\n",
       "  </thead>\n",
       "  <tbody>\n",
       "    <tr>\n",
       "      <th>0</th>\n",
       "      <td>2014-07-28</td>\n",
       "      <td>69.750000</td>\n",
       "      <td>71.059998</td>\n",
       "      <td>69.750000</td>\n",
       "      <td>70.879997</td>\n",
       "      <td>57.963978</td>\n",
       "      <td>1806400</td>\n",
       "      <td>NaN</td>\n",
       "    </tr>\n",
       "    <tr>\n",
       "      <th>1</th>\n",
       "      <td>2014-07-29</td>\n",
       "      <td>70.669998</td>\n",
       "      <td>70.980003</td>\n",
       "      <td>69.930000</td>\n",
       "      <td>69.930000</td>\n",
       "      <td>57.187099</td>\n",
       "      <td>2231100</td>\n",
       "      <td>-0.013403</td>\n",
       "    </tr>\n",
       "    <tr>\n",
       "      <th>2</th>\n",
       "      <td>2014-07-30</td>\n",
       "      <td>70.000000</td>\n",
       "      <td>70.660004</td>\n",
       "      <td>68.400002</td>\n",
       "      <td>68.970001</td>\n",
       "      <td>56.402020</td>\n",
       "      <td>2588900</td>\n",
       "      <td>-0.013728</td>\n",
       "    </tr>\n",
       "    <tr>\n",
       "      <th>3</th>\n",
       "      <td>2014-07-31</td>\n",
       "      <td>68.629997</td>\n",
       "      <td>68.849998</td>\n",
       "      <td>67.580002</td>\n",
       "      <td>67.639999</td>\n",
       "      <td>55.314388</td>\n",
       "      <td>3266900</td>\n",
       "      <td>-0.019284</td>\n",
       "    </tr>\n",
       "    <tr>\n",
       "      <th>4</th>\n",
       "      <td>2014-08-01</td>\n",
       "      <td>67.330002</td>\n",
       "      <td>68.410004</td>\n",
       "      <td>67.220001</td>\n",
       "      <td>67.589996</td>\n",
       "      <td>55.273487</td>\n",
       "      <td>2601800</td>\n",
       "      <td>-0.000739</td>\n",
       "    </tr>\n",
       "  </tbody>\n",
       "</table>\n",
       "</div>"
      ],
      "text/plain": [
       "        Date       Open       High        Low      Close  Adj Close   Volume   \n",
       "0 2014-07-28  69.750000  71.059998  69.750000  70.879997  57.963978  1806400  \\\n",
       "1 2014-07-29  70.669998  70.980003  69.930000  69.930000  57.187099  2231100   \n",
       "2 2014-07-30  70.000000  70.660004  68.400002  68.970001  56.402020  2588900   \n",
       "3 2014-07-31  68.629997  68.849998  67.580002  67.639999  55.314388  3266900   \n",
       "4 2014-08-01  67.330002  68.410004  67.220001  67.589996  55.273487  2601800   \n",
       "\n",
       "   DailyReturns  \n",
       "0           NaN  \n",
       "1     -0.013403  \n",
       "2     -0.013728  \n",
       "3     -0.019284  \n",
       "4     -0.000739  "
      ]
     },
     "execution_count": 28,
     "metadata": {},
     "output_type": "execute_result"
    }
   ],
   "source": [
    "# Calculate Daily Returns\n",
    "df_combined_without_vol_outliers['DailyReturns'] = df_combined_without_vol_outliers['Adj Close'].pct_change()\n",
    "\n",
    "df_combined_without_vol_outliers.head()"
   ]
  },
  {
   "cell_type": "markdown",
   "id": "7bc38547",
   "metadata": {},
   "source": [
    "## Step 2: Calculate Volatility\n",
    "Typically measured as the standard deviation of daily returns. Here we utilize the **rolling()** function with a specified window size to calculate the rolling standard deviation."
   ]
  },
  {
   "cell_type": "code",
   "execution_count": 29,
   "id": "d21b0631",
   "metadata": {},
   "outputs": [
    {
     "data": {
      "text/html": [
       "<div>\n",
       "<style scoped>\n",
       "    .dataframe tbody tr th:only-of-type {\n",
       "        vertical-align: middle;\n",
       "    }\n",
       "\n",
       "    .dataframe tbody tr th {\n",
       "        vertical-align: top;\n",
       "    }\n",
       "\n",
       "    .dataframe thead th {\n",
       "        text-align: right;\n",
       "    }\n",
       "</style>\n",
       "<table border=\"1\" class=\"dataframe\">\n",
       "  <thead>\n",
       "    <tr style=\"text-align: right;\">\n",
       "      <th></th>\n",
       "      <th>Date</th>\n",
       "      <th>Open</th>\n",
       "      <th>High</th>\n",
       "      <th>Low</th>\n",
       "      <th>Close</th>\n",
       "      <th>Adj Close</th>\n",
       "      <th>Volume</th>\n",
       "      <th>DailyReturns</th>\n",
       "      <th>Volatility</th>\n",
       "    </tr>\n",
       "  </thead>\n",
       "  <tbody>\n",
       "    <tr>\n",
       "      <th>6290</th>\n",
       "      <td>2019-07-22</td>\n",
       "      <td>55.400002</td>\n",
       "      <td>55.610001</td>\n",
       "      <td>54.869999</td>\n",
       "      <td>55.480000</td>\n",
       "      <td>55.480000</td>\n",
       "      <td>4623300</td>\n",
       "      <td>0.003800</td>\n",
       "      <td>0.008186</td>\n",
       "    </tr>\n",
       "    <tr>\n",
       "      <th>6291</th>\n",
       "      <td>2019-07-23</td>\n",
       "      <td>55.500000</td>\n",
       "      <td>55.619999</td>\n",
       "      <td>55.009998</td>\n",
       "      <td>55.419998</td>\n",
       "      <td>55.419998</td>\n",
       "      <td>3023300</td>\n",
       "      <td>-0.001082</td>\n",
       "      <td>0.008144</td>\n",
       "    </tr>\n",
       "    <tr>\n",
       "      <th>6292</th>\n",
       "      <td>2019-07-24</td>\n",
       "      <td>55.459999</td>\n",
       "      <td>55.669998</td>\n",
       "      <td>55.099998</td>\n",
       "      <td>55.639999</td>\n",
       "      <td>55.639999</td>\n",
       "      <td>3613900</td>\n",
       "      <td>0.003970</td>\n",
       "      <td>0.008166</td>\n",
       "    </tr>\n",
       "    <tr>\n",
       "      <th>6293</th>\n",
       "      <td>2019-07-25</td>\n",
       "      <td>55.540001</td>\n",
       "      <td>55.810001</td>\n",
       "      <td>55.250000</td>\n",
       "      <td>55.360001</td>\n",
       "      <td>55.360001</td>\n",
       "      <td>3280900</td>\n",
       "      <td>-0.005032</td>\n",
       "      <td>0.007991</td>\n",
       "    </tr>\n",
       "    <tr>\n",
       "      <th>6294</th>\n",
       "      <td>2019-07-26</td>\n",
       "      <td>55.340000</td>\n",
       "      <td>55.830002</td>\n",
       "      <td>55.200001</td>\n",
       "      <td>55.740002</td>\n",
       "      <td>55.740002</td>\n",
       "      <td>2288700</td>\n",
       "      <td>0.006864</td>\n",
       "      <td>0.008084</td>\n",
       "    </tr>\n",
       "  </tbody>\n",
       "</table>\n",
       "</div>"
      ],
      "text/plain": [
       "           Date       Open       High        Low      Close  Adj Close   \n",
       "6290 2019-07-22  55.400002  55.610001  54.869999  55.480000  55.480000  \\\n",
       "6291 2019-07-23  55.500000  55.619999  55.009998  55.419998  55.419998   \n",
       "6292 2019-07-24  55.459999  55.669998  55.099998  55.639999  55.639999   \n",
       "6293 2019-07-25  55.540001  55.810001  55.250000  55.360001  55.360001   \n",
       "6294 2019-07-26  55.340000  55.830002  55.200001  55.740002  55.740002   \n",
       "\n",
       "       Volume  DailyReturns  Volatility  \n",
       "6290  4623300      0.003800    0.008186  \n",
       "6291  3023300     -0.001082    0.008144  \n",
       "6292  3613900      0.003970    0.008166  \n",
       "6293  3280900     -0.005032    0.007991  \n",
       "6294  2288700      0.006864    0.008084  "
      ]
     },
     "execution_count": 29,
     "metadata": {},
     "output_type": "execute_result"
    }
   ],
   "source": [
    "# Specify rolling window size\n",
    "window_size = 30\n",
    "\n",
    "# Calculate Volatility\n",
    "df_combined_without_vol_outliers['Volatility'] = df_combined_without_vol_outliers['DailyReturns'].rolling(window_size).std()\n",
    "\n",
    "df_combined_without_vol_outliers.tail()"
   ]
  },
  {
   "cell_type": "markdown",
   "id": "01f592b6",
   "metadata": {},
   "source": [
    "### Calculate Correlation\n",
    "Finally, we calculate the estimated correlation between energy stock volatility and trading volume. Here we use the pandas [corr()](https://pandas.pydata.org/docs/reference/api/pandas.DataFrame.corr.html) function to compute the correlation coefficient. The resulting **correlation** value will range between -1 and 1. A positive correlation indicates a positive relationship between trading volume and volatility, whereas a negative correlation suggests an inverse relationship."
   ]
  },
  {
   "cell_type": "code",
   "execution_count": 30,
   "id": "ef95bfb8",
   "metadata": {},
   "outputs": [
    {
     "name": "stdout",
     "output_type": "stream",
     "text": [
      "Estimated corrlelation: 0.0434\n"
     ]
    },
    {
     "data": {
      "image/png": "[encoded data removed]",
      "text/plain": [
       "<Figure size 1000x500 with 1 Axes>"
      ]
     },
     "metadata": {},
     "output_type": "display_data"
    }
   ],
   "source": [
    "# Calculate estimated correlation between the volatility of energy stocks and their average daily trading volume\n",
    "correlation = df_combined_without_vol_outliers['Volatility'].corr(df_combined_without_vol_outliers['Volume'])\n",
    "\n",
    "# Filter the aggregated dataframe for a plot\n",
    "df_volatility = pd.DataFrame(df_combined_without_vol_outliers, columns=['Volatility'])\n",
    "\n",
    "# Plot the correlation\n",
    "df_volatility.corrwith(df_combined_without_vol_outliers.Volume).plot.bar(figsize = (10, 5), \n",
    "                                                        title = 'Estimated correlation between energy stock volatility and avg daily trading volume', \n",
    "                                                        fontsize = 15, \n",
    "                                                        rot = 45, \n",
    "                                                        grid = True)\n",
    "# Display\n",
    "print(f\"Estimated corrlelation: {correlation:.4f}\")\n",
    "plt.show()"
   ]
  },
  {
   "cell_type": "markdown",
   "id": "cc42713a",
   "metadata": {},
   "source": [
    "This can also be calculated via a **correlation matrix**"
   ]
  },
  {
   "cell_type": "code",
   "execution_count": 31,
   "id": "bddc6d73",
   "metadata": {},
   "outputs": [
    {
     "data": {
      "text/html": [
       "<div>\n",
       "<style scoped>\n",
       "    .dataframe tbody tr th:only-of-type {\n",
       "        vertical-align: middle;\n",
       "    }\n",
       "\n",
       "    .dataframe tbody tr th {\n",
       "        vertical-align: top;\n",
       "    }\n",
       "\n",
       "    .dataframe thead th {\n",
       "        text-align: right;\n",
       "    }\n",
       "</style>\n",
       "<table border=\"1\" class=\"dataframe\">\n",
       "  <thead>\n",
       "    <tr style=\"text-align: right;\">\n",
       "      <th></th>\n",
       "      <th>Volatility</th>\n",
       "      <th>Volume</th>\n",
       "    </tr>\n",
       "  </thead>\n",
       "  <tbody>\n",
       "    <tr>\n",
       "      <th>Volatility</th>\n",
       "      <td>1.000000</td>\n",
       "      <td>0.043384</td>\n",
       "    </tr>\n",
       "    <tr>\n",
       "      <th>Volume</th>\n",
       "      <td>0.043384</td>\n",
       "      <td>1.000000</td>\n",
       "    </tr>\n",
       "  </tbody>\n",
       "</table>\n",
       "</div>"
      ],
      "text/plain": [
       "            Volatility    Volume\n",
       "Volatility    1.000000  0.043384\n",
       "Volume        0.043384  1.000000"
      ]
     },
     "execution_count": 31,
     "metadata": {},
     "output_type": "execute_result"
    }
   ],
   "source": [
    "# Select columns of interest\n",
    "columns = ['Volatility', 'Volume']\n",
    "\n",
    "# Calculate the estimated correlation matrix\n",
    "df_combined_without_vol_outliers[columns].corr()"
   ]
  },
  {
   "cell_type": "markdown",
   "id": "4b65f4b8",
   "metadata": {},
   "source": [
    "### This moderately positive correlation suggests\n",
    "\n",
    "- Higher volatility is associated with higher trading volume\n",
    "- When there is increased trading activity, such as a higher number of shares being bought and sold, it tends to coincide with larger price movements and increased volatility in the energy stock\n",
    "- It may indicate that market participants reacting to news or events, are actively buying and selling shares, leading to heightened price fluctuations\n",
    "- Energy stocks have a high level of trading volume"
   ]
  },
  {
   "cell_type": "markdown",
   "id": "89f3c6b1",
   "metadata": {},
   "source": [
    "## Save Data"
   ]
  },
  {
   "cell_type": "code",
   "execution_count": 32,
   "id": "7808a73c",
   "metadata": {},
   "outputs": [],
   "source": [
    "df_combined_without_vol_outliers.to_csv(\"../data/processed/energy-stocks-combined.csv\", index = False)"
   ]
  }
 ],
 "metadata": {
  "kernelspec": {
   "display_name": "Python 3 (ipykernel)",
   "language": "python",
   "name": "python3"
  },
  "language_info": {
   "codemirror_mode": {
    "name": "ipython",
    "version": 3
   },
   "file_extension": ".py",
   "mimetype": "text/x-python",
   "name": "python",
   "nbconvert_exporter": "python",
   "pygments_lexer": "ipython3",
   "version": "3.10.9"
  }
 },
 "nbformat": 4,
 "nbformat_minor": 5
}
